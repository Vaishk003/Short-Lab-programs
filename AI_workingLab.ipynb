{
  "cells": [
    {
      "cell_type": "code",
      "execution_count": 1,
      "metadata": {
        "colab": {
          "base_uri": "https://localhost:8080/"
        },
        "id": "mTFUmImd1tf8",
        "outputId": "47242f29-ec7e-4292-fa2d-9dec708d9ab1"
      },
      "outputs": [
        {
          "output_type": "stream",
          "name": "stdout",
          "text": [
            "Path is as follows\n",
            "(0,0)\n",
            "(5,0)\n",
            "(5,3)\n",
            "(0,3)\n",
            "(3,0)\n",
            "(3,3)\n",
            "(5,1)\n",
            "(0,1)\n",
            "(1,0)\n",
            "(1,3)\n",
            "(4,0)\n"
          ]
        },
        {
          "output_type": "execute_result",
          "data": {
            "text/plain": [
              "True"
            ]
          },
          "metadata": {},
          "execution_count": 1
        }
      ],
      "source": [
        "# DFS Water jug porblem\n",
        "from collections import defaultdict \n",
        "visited=defaultdict(lambda:False) \n",
        "J1,J2,L=0,0,0\n",
        "def Water_Jug_Problem(X,Y): \n",
        "    global J1,J2,Litre\n",
        "    if(X==L and Y==0)or(Y==L and X==0): \n",
        "        print(\"(\",X,\",\",Y,\")\",sep=\"\")\n",
        "        return True\n",
        "    if visited[(X,Y)]==False:\n",
        "        print(\"(\",X,\",\",Y,\")\",sep=\"\")\n",
        "        visited[(X,Y)]=True\n",
        "        return(Water_Jug_Problem(0,Y) or Water_Jug_Problem(X,0) or Water_Jug_Problem(J1,Y) or Water_Jug_Problem(X,J2) or Water_Jug_Problem(X+min(Y,(J1-X)),Y-min(Y,(J1-X))) or Water_Jug_Problem(X-min(X,(J2- Y)),Y+min(X,(J2-Y))))\n",
        "    else:\n",
        "        return False\n",
        "J1=5\n",
        "J2=3\n",
        "L=4\n",
        "print(\"Path is as follows\") \n",
        "Water_Jug_Problem(0,0)"
      ]
    },
    {
      "cell_type": "code",
      "execution_count": null,
      "metadata": {
        "id": "107GFZ7e1tf_",
        "outputId": "c79b542a-d7b0-4faf-b704-2c38972e9299"
      },
      "outputs": [
        {
          "name": "stdout",
          "output_type": "stream",
          "text": [
            "JUG1 \t JUG2\n",
            "0\t0\n",
            "3\t0\n",
            "0\t3\n",
            "3\t3\n",
            "1\t5\n",
            "0\t1\n",
            "3\t1\n",
            "0\t4\n"
          ]
        }
      ],
      "source": [
        "#BFS on water jug\n",
        "def pour(jug1,jug2):\n",
        "     max1,max2,fill=3,5,4 \n",
        "     print(\"%d\\t%d\"%(jug1,jug2)) \n",
        "     if jug2==fill:\n",
        "        return\n",
        "     elif jug2==max2: \n",
        "        pour(0,jug1)\n",
        "     elif jug1 !=0 and jug2==0:\n",
        "        pour(0,jug1)\n",
        "     elif jug1 == fill:\n",
        "        pour(jug1,0)\n",
        "     elif jug1<max1:\n",
        "        pour(max1,jug2)\n",
        "     elif jug1<(max2-jug2): \n",
        "        pour(0,(jug1+jug2))\n",
        "     else: \n",
        "        pour(jug1-(max2-jug2),(max2-jug2)+jug2) \n",
        "print(\"JUG1 \\t JUG2\")\n",
        "pour(0,0)\n"
      ]
    },
    {
      "cell_type": "code",
      "execution_count": null,
      "metadata": {
        "id": "GyZGHlAt1tgA",
        "outputId": "e8c035a5-5cd6-4b86-f3b7-c0d053b11d83"
      },
      "outputs": [
        {
          "name": "stdout",
          "output_type": "stream",
          "text": [
            "Graph - 1\n",
            "PROCESSING NODE : A\n",
            "-----------------------------------------------------------------------------------------\n",
            "11 ['D']\n",
            "\n",
            "PROCESSING NODE : D\n",
            "-----------------------------------------------------------------------------------------\n",
            "10 ['E', 'F']\n",
            "\n",
            "PROCESSING NODE : A\n",
            "-----------------------------------------------------------------------------------------\n",
            "11 ['D']\n",
            "\n",
            "PROCESSING NODE : E\n",
            "-----------------------------------------------------------------------------------------\n",
            "0 []\n",
            "\n",
            "PROCESSING NODE : D\n",
            "-----------------------------------------------------------------------------------------\n",
            "6 ['E', 'F']\n",
            "\n",
            "PROCESSING NODE : A\n",
            "-----------------------------------------------------------------------------------------\n",
            "7 ['D']\n",
            "\n",
            "PROCESSING NODE : F\n",
            "-----------------------------------------------------------------------------------------\n",
            "0 []\n",
            "\n",
            "PROCESSING NODE : D\n",
            "-----------------------------------------------------------------------------------------\n",
            "2 ['E', 'F']\n",
            "\n",
            "PROCESSING NODE : A\n",
            "-----------------------------------------------------------------------------------------\n",
            "3 ['D']\n",
            "\n",
            "FOR THE SOLUTION, TRAVERSE THE GRAPH FROM THE START NODE: A\n",
            "------------------------------------------------------------\n",
            "{'E': [], 'F': [], 'D': ['E', 'F'], 'A': ['D']}\n",
            "------------------------------------------------------------\n"
          ]
        }
      ],
      "source": [
        "#AO star algorithm\n",
        "from heuristicsearch.ao_star import AOStar \n",
        "print(\"Graph - 1\")\n",
        "heuristic={'A':1,'B':6,'C':12,'D':10,'E':4,'F':4,'G':5,'H':7} \n",
        "adjacent_list={'A':[[('B',1),('C',1)],[('D',1)]], 'B':[[('G',1)],[('H',1)]],'D':[[('E',1),('F',1)]]} \n",
        "graph=AOStar(adjacent_list,heuristic,'A') \n",
        "graph.applyAOStar()\n"
      ]
    },
    {
      "cell_type": "code",
      "execution_count": null,
      "metadata": {
        "id": "u-cQ7XoG1tgB",
        "outputId": "d7bb7a12-aeeb-41d5-8560-d19af538994e"
      },
      "outputs": [
        {
          "name": "stdout",
          "output_type": "stream",
          "text": [
            "Enter the number of queens\n",
            "[0, 1, 0, 0]\n",
            "[0, 0, 0, 1]\n",
            "[1, 0, 0, 0]\n",
            "[0, 0, 1, 0]\n"
          ]
        }
      ],
      "source": [
        "# N queens problem\n",
        "\n",
        "print(\"Enter the number of queens\")\n",
        "N = int(input())\n",
        "board = [[0]*N for _ in range(N)]\n",
        "\n",
        "\n",
        "def is_attack(i, j):\n",
        "    for k in range(0, N):\n",
        "        if board[i][k] == 1 or board[k][j] == 1:\n",
        "            return True\n",
        "    for k in range(0, N):\n",
        "        for l in range(0, N):\n",
        "            if (k+l == i+j) or (k-l == i-j):\n",
        "                if board[k][l] == 1:\n",
        "                    return True\n",
        "    return False\n",
        "\n",
        "\n",
        "def N_queen(n):\n",
        "    if n == 0:\n",
        "        return True\n",
        "    for i in range(0, N):\n",
        "        for j in range(0, N):\n",
        "            if (not (is_attack(i, j))) and (board[i][j] != 1):\n",
        "                board[i][j] = 1\n",
        "                if N_queen(n-1) == True:\n",
        "                    return True\n",
        "                board[i][j] = 0\n",
        "    return False\n",
        "\n",
        "\n",
        "N_queen(N)\n",
        "for i in board:\n",
        "    print(i)"
      ]
    },
    {
      "cell_type": "code",
      "execution_count": null,
      "metadata": {
        "id": "b3LUQ8Nm1tgC",
        "outputId": "47c7dccd-fdb0-4e3a-ca20-8e30f6ad21b6"
      },
      "outputs": [
        {
          "name": "stdout",
          "output_type": "stream",
          "text": [
            "40\n"
          ]
        }
      ],
      "source": [
        "#TSP using heuristic\n",
        "from sys import maxsize\n",
        "from itertools import permutations\n",
        "v=4\n",
        "def travellingSalesmanProblem(graph,s):\n",
        "    vertex=[]\n",
        "    for i in range(v):\n",
        "        if i!=s:\n",
        "            vertex.append(i)\n",
        "            min_path=maxsize\n",
        "            next_permutation=permutations(vertex)\n",
        "    for i in next_permutation:\n",
        "        current_pathweight=0\n",
        "        k=s\n",
        "    for j in i:\n",
        "        current_pathweight+=graph[k][j]\n",
        "        k=j\n",
        "        current_pathweight+=graph[k][s] \n",
        "        min_path=min(min_path,current_pathweight)\n",
        "    return min_path\n",
        "if __name__==\"__main__\": \n",
        "    graph=[[0,10,15,20],[10,0,35,25],[15,35,0,30],[20,25,30,0]] \n",
        "    s=0\n",
        "    print(travellingSalesmanProblem(graph,s))"
      ]
    },
    {
      "cell_type": "code",
      "execution_count": null,
      "metadata": {
        "id": "b17qVkWm1tgD",
        "outputId": "e42ab4bf-c290-4e8e-fa49-bb6c9910f5f7"
      },
      "outputs": [
        {
          "name": "stdout",
          "output_type": "stream",
          "text": [
            "[['sing', 'cana ry'], ['canary', 'yellow']]\n"
          ]
        }
      ],
      "source": [
        "\n",
        "#forwaard chaining\n",
        "factskw=[['croaks', 'frog'],['eats flies','frog'],['frog','green'],['chirps','canary'],['sing','cana ry'],['canary','yellow']]\n",
        "def check(str, factOb):\n",
        "       facts=[]\n",
        "       flag=True\n",
        "       while flag==True:\n",
        "           flag=False\n",
        "           for txt in str:\n",
        "               for A1 in factOb:\n",
        "                   if A1[0] == txt:\n",
        "                       tmp = [txt,A1[1]]\n",
        "                       if not tmp in facts:\n",
        "                           facts += [tmp]\n",
        "                           str += A1[1]\n",
        "                           flag = True\n",
        "       return facts\n",
        "result = check(['sing', 'canary'], factskw)\n",
        "print(result)\n"
      ]
    },
    {
      "cell_type": "code",
      "execution_count": null,
      "metadata": {
        "id": "VAsmMtWW1tgE",
        "outputId": "9f6782ec-88d1-485e-999c-111ae4560242"
      },
      "outputs": [
        {
          "name": "stdout",
          "output_type": "stream",
          "text": [
            "Processing goal: C\n",
            "Found a rule with goal in its Chaining:\n",
            "A->('C',)\n"
          ]
        }
      ],
      "source": [
        "#backward chaining\n",
        "class Rule:\n",
        "    def __init__(self, conclusion, *premises):\n",
        "           self.conclusion = conclusion\n",
        "           self.premises = premises\n",
        "    def backward_chaining(goal, rules):\n",
        "       agenda = [goal]\n",
        "       while agenda:\n",
        "           goal = agenda.pop(0)\n",
        "           print(\"Processing goal:\", goal)\n",
        "           found = False\n",
        "           for rule in rules:\n",
        "                if goal in rule.premises:\n",
        "                    print(\"Found a rule with goal in its Chaining:\") \n",
        "                    print(rule.conclusion, rule.premises, sep='->')\n",
        "                    found = True\n",
        "                    for premise in rule.premises:\n",
        "                        if premise not in agenda:\n",
        "                                agenda.append(premise)\n",
        "                        if not found:\n",
        "                                print(\"No rules found for:\", goal)\n",
        "                                return False\n",
        "                        return True\n",
        "    rules = [Rule(\"A\", \"C\"), Rule(\"B\", \"C\"), Rule(\"C\", \"D\")]\n",
        "    backward_chaining(\"C\", rules)"
      ]
    },
    {
      "cell_type": "code",
      "execution_count": null,
      "metadata": {
        "id": "0oxV6YDA1tgF",
        "outputId": "0fa2cfa2-b45b-423d-beb2-e4edb6daf3f6"
      },
      "outputs": [
        {
          "name": "stdout",
          "output_type": "stream",
          "text": [
            "parts: ['(A ', ' B) ', ' B']\n",
            "dnf_parts: [None, None, None]\n",
            "(A  or  B)  or  B\n"
          ]
        }
      ],
      "source": [
        "#FOL\n",
        "import re\n",
        "def dnf(formula):\n",
        "    if re.fullmatch(r'[A-Z]|~[A-Z]|()\"\"', formula):\n",
        "        return formula\n",
        "    if 'and' in formula or 'or' in formula:\n",
        "        parts = re.split(r'(?<=[^\\w])or(?=[^\\w])|(?<=[^\\w])and(?=[^\\w])', formula)\n",
        "        print(f\"parts: {parts}\")\n",
        "        dnf_parts = [dnf(part) for part in parts]\n",
        "        print(f\"dnf_parts: {dnf_parts}\")\n",
        "        return \" or \".join(parts)\n",
        "    elif 'and' in formula:\n",
        "        return \" and \".join(parts)\n",
        "formula = \"(A and B) or B\"\n",
        "dnf_formula = dnf(formula)\n",
        "print(dnf_formula)  "
      ]
    },
    {
      "cell_type": "code",
      "execution_count": null,
      "metadata": {
        "id": "5C_XlE0H1tgG",
        "outputId": "30e6baca-d6b1-4923-8f1d-9703698de02e"
      },
      "outputs": [
        {
          "name": "stdout",
          "output_type": "stream",
          "text": [
            "(A and B) or (C and D)\n"
          ]
        }
      ],
      "source": [
        "# FOPL\n",
        "import re\n",
        "def cnf(formula):\n",
        "    if re.fullmatch(r'[A-Z]|~[A-Z]', formula):\n",
        "        return formula\n",
        "    if 'and' in formula or 'or' in formula:\n",
        "        parts = re.split(r'(?<=\\()or(?=\\))|(?<=\\()and(?=\\))', formula) # Convert each part to CNF\n",
        "# cnf_parts = [cnf(part) for part in parts]\n",
        "# Combine the parts using the appropriate logical operator\n",
        "    if 'and' in formula:\n",
        "        return \" and \".join(parts)\n",
        "    elif 'or' in formula:\n",
        "        return \" or \".join(parts)\n",
        "# Example usage\n",
        "formula = \"(A and B) or (C and D)\"\n",
        "cnf_formula = cnf(formula)\n",
        "print(cnf_formula) # Outputs: \"A and B or C and D or\""
      ]
    },
    {
      "cell_type": "code",
      "execution_count": null,
      "metadata": {
        "id": "zavK5dfQ1tgH",
        "outputId": "bd76fd0b-2d36-4bd2-9283-0e68746e5de3"
      },
      "outputs": [
        {
          "name": "stdout",
          "output_type": "stream",
          "text": [
            " | | \n",
            "-+-+-\n",
            " | | \n",
            "-+-+-\n",
            " | | \n",
            "It's your turn,X.Move to which place?\n",
            " | | \n",
            "-+-+-\n",
            " | | \n",
            "-+-+-\n",
            "X| | \n",
            "It's your turn,O.Move to which place?\n",
            " | | \n",
            "-+-+-\n",
            " |O| \n",
            "-+-+-\n",
            "X| | \n",
            "It's your turn,X.Move to which place?\n",
            " | |X\n",
            "-+-+-\n",
            " |O| \n",
            "-+-+-\n",
            "X| | \n",
            "It's your turn,O.Move to which place?\n",
            " | |X\n",
            "-+-+-\n",
            " |O|O\n",
            "-+-+-\n",
            "X| | \n",
            "It's your turn,X.Move to which place?\n",
            "X| |X\n",
            "-+-+-\n",
            " |O|O\n",
            "-+-+-\n",
            "X| | \n",
            "It's your turn,O.Move to which place?\n",
            "That place is already filled.\n",
            "Move to which place?\n",
            "X| |X\n",
            "-+-+-\n",
            " |O|O\n",
            "-+-+-\n",
            "X| | \n",
            "It's your turn,O.Move to which place?\n",
            "X| |X\n",
            "-+-+-\n",
            "O|O|O\n",
            "-+-+-\n",
            "X| | \n",
            "\n",
            "Game Over.\n",
            "\n",
            " **** O won. ****\n"
          ]
        }
      ],
      "source": [
        "#game strategies\n",
        "theBoard = {'7': ' ', '8': ' ', '9': ' ',\n",
        "            '4': ' ', '5': ' ', '6': ' ',\n",
        "            '1': ' ', '2': ' ', '3': ' '}\n",
        "\n",
        "board_keys = []\n",
        "for key in theBoard:\n",
        "    board_keys.append(key)\n",
        "\n",
        "\n",
        "def declare_winner(winner):\n",
        "    printBoard(theBoard)\n",
        "    print(\"\\nGame Over.\\n\")\n",
        "    print(\" **** \" + winner + \" won. ****\")\n",
        "\n",
        "\n",
        "def printBoard(board):\n",
        "    print(board['7'] + '|' + board['8'] + '|' + board['9'])\n",
        "    print('-+-+-')\n",
        "    print(board['4'] + '|' + board['5'] + '|' + board['6'])\n",
        "    print('-+-+-')\n",
        "    print(board['1'] + '|' + board['2'] + '|' + board['3'])\n",
        "\n",
        "\n",
        "def game():\n",
        "    turn = 'X'\n",
        "    count = 0\n",
        "    for i in range(10):\n",
        "        printBoard(theBoard)\n",
        "        print(\"It's your turn,\" + turn + \".Move to which place?\")\n",
        "        move = input()\n",
        "        if theBoard[move] == ' ':\n",
        "            theBoard[move] = turn\n",
        "            count += 1\n",
        "        else:\n",
        "            print(\"That place is already filled.\\nMove to which place?\")\n",
        "            continue\n",
        "        if count >= 5:\n",
        "            if (theBoard['7'] == theBoard['8'] == theBoard['9'] != ' '):\n",
        "                declare_winner(turn)\n",
        "                break\n",
        "            elif theBoard['4'] == theBoard['5'] == theBoard['6'] != ' ':\n",
        "                declare_winner(turn)\n",
        "                break\n",
        "            elif theBoard['1'] == theBoard['2'] == theBoard['3'] != ' ':\n",
        "                declare_winner(turn)\n",
        "                break\n",
        "            elif theBoard['1'] == theBoard['4'] == theBoard['7'] != ' ':\n",
        "                declare_winner(turn)\n",
        "                break\n",
        "            elif theBoard['2'] == theBoard['5'] == theBoard['8'] != ' ':\n",
        "                declare_winner(turn)\n",
        "                break\n",
        "            elif theBoard['3'] == theBoard['6'] == theBoard['9'] != ' ':\n",
        "                declare_winner(turn)\n",
        "                break\n",
        "            elif theBoard['7'] == theBoard['5'] == theBoard['3'] != ' ':\n",
        "                declare_winner(turn)\n",
        "                break\n",
        "            elif theBoard['1'] == theBoard['5'] == theBoard['9'] != ' ':\n",
        "                declare_winner(turn)\n",
        "                break\n",
        "        if count == 9:\n",
        "            print(\"\\nGame Over.\\n\")\n",
        "            print(\"It's a Tie!!\")\n",
        "        if turn == 'X':\n",
        "            turn = 'O'\n",
        "        else:\n",
        "            turn = 'X'\n",
        "    restart = input(\"Do want to play Again?(y/n)\")\n",
        "    if restart == \"y\" or restart == \"Y\":\n",
        "        for key in board_keys:\n",
        "            theBoard[key] = \" \"\n",
        "        game()\n",
        "\n",
        "\n",
        "if __name__ == \"__main__\":\n",
        "    game()\n"
      ]
    }
  ],
  "metadata": {
    "kernelspec": {
      "display_name": "base",
      "language": "python",
      "name": "python3"
    },
    "language_info": {
      "codemirror_mode": {
        "name": "ipython",
        "version": 3
      },
      "file_extension": ".py",
      "mimetype": "text/x-python",
      "name": "python",
      "nbconvert_exporter": "python",
      "pygments_lexer": "ipython3",
      "version": "3.8.8"
    },
    "orig_nbformat": 4,
    "vscode": {
      "interpreter": {
        "hash": "40d3a090f54c6569ab1632332b64b2c03c39dcf918b08424e98f38b5ae0af88f"
      }
    },
    "colab": {
      "provenance": []
    }
  },
  "nbformat": 4,
  "nbformat_minor": 0
}